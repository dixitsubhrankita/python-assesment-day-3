{
  "nbformat": 4,
  "nbformat_minor": 0,
  "metadata": {
    "colab": {
      "provenance": [],
      "authorship_tag": "ABX9TyO+9FdObvZ5LKMO/OiA1bBd",
      "include_colab_link": true
    },
    "kernelspec": {
      "name": "python3",
      "display_name": "Python 3"
    },
    "language_info": {
      "name": "python"
    }
  },
  "cells": [
    {
      "cell_type": "markdown",
      "metadata": {
        "id": "view-in-github",
        "colab_type": "text"
      },
      "source": [
        "<a href=\"https://colab.research.google.com/github/dixitsubhrankita/python-assesment-day-3/blob/main/pythontask.ipynb\" target=\"_parent\"><img src=\"https://colab.research.google.com/assets/colab-badge.svg\" alt=\"Open In Colab\"/></a>"
      ]
    },
    {
      "cell_type": "code",
      "execution_count": 1,
      "metadata": {
        "colab": {
          "base_uri": "https://localhost:8080/"
        },
        "id": "NHttxlCWfEPJ",
        "outputId": "fd33916b-dba1-4b3b-e6a2-99b5fd86aac9"
      },
      "outputs": [
        {
          "output_type": "stream",
          "name": "stdout",
          "text": [
            "enter total amount: 200\n",
            "no discount\n",
            "total amount: 200\n"
          ]
        }
      ],
      "source": [
        "#1\n",
        "n=int(input('enter total amount: '))\n",
        "if n>=1000:\n",
        "    n=n-(n*0.2)\n",
        "    print('20% discount applied')\n",
        "elif n>=500 and n<=1000:\n",
        "    n=n-(n*0.1)\n",
        "    print('10% discount applied')\n",
        "else:\n",
        "    print('no discount')\n",
        "print('total amount:',n)"
      ]
    },
    {
      "cell_type": "code",
      "source": [
        "#2\n",
        "marks=int(input('enter marks out of 100: '))\n",
        "if marks>=90 and marks<=100:\n",
        "    print('grade A')\n",
        "elif marks>=70 and marks<89:\n",
        "    print('grade B')\n",
        "elif marks>=50 and marks<69:\n",
        "    print('grade C')\n",
        "else:\n",
        "    print('fail')"
      ],
      "metadata": {
        "id": "wB75v7AGfSD0"
      },
      "execution_count": null,
      "outputs": []
    },
    {
      "cell_type": "code",
      "source": [
        "#3\n",
        "age=int(input('enter age: '))\n",
        "if age<13:\n",
        "    print('child')\n",
        "elif age>=13 and age<=19:\n",
        "    print('teenager')\n",
        "elif age>=20 and age<=59:\n",
        "    print('adult')\n",
        "else:\n",
        "    print('senior')"
      ],
      "metadata": {
        "id": "7KqW9u3bfVUB"
      },
      "execution_count": null,
      "outputs": []
    },
    {
      "cell_type": "code",
      "source": [
        "#4\n",
        "n=int(input('enter number: '))\n",
        "if n%2==0 and n%5==0:\n",
        "    print('even and divisible by 5')\n",
        "elif n%2!=0 and n%5==0:\n",
        "    print('odd and divisible by 5')\n",
        "elif n%2==0 and n%5!=0:\n",
        "    print('even and not divisible by 5')\n",
        "elif n%2!=0 and n%5!=0:\n",
        "    print('odd and not divisible by 5')\n"
      ],
      "metadata": {
        "id": "bKNfKa1PfY8D"
      },
      "execution_count": null,
      "outputs": []
    },
    {
      "cell_type": "code",
      "source": [
        "#5\n",
        "username=input('enter username: ')\n",
        "s='john amy sita'\n",
        "if username in s:\n",
        "    print('valid')\n",
        "else:\n",
        "    print('invalid')"
      ],
      "metadata": {
        "id": "qu70joVlfcGF"
      },
      "execution_count": null,
      "outputs": []
    },
    {
      "cell_type": "code",
      "source": [
        "#6\n",
        "n=int(input('enter 1st number: '))\n",
        "m=int(input('enter 2nd number: '))\n",
        "if n>m:\n",
        "    print('1st number is greater')\n",
        "elif n<m:\n",
        "    print('2nd number is greater')\n",
        "elif n==m:\n",
        "    print('both are equal')"
      ],
      "metadata": {
        "id": "Se3mt46xfiVV"
      },
      "execution_count": null,
      "outputs": []
    },
    {
      "cell_type": "code",
      "source": [
        "#7\n",
        "age=int(input('enter age: '))\n",
        "if age>=18 and age<21:\n",
        "    print('eligible for voting')\n",
        "elif age>=21:\n",
        "    print('eligible for driving')"
      ],
      "metadata": {
        "id": "eYqy4IE3fmsy"
      },
      "execution_count": null,
      "outputs": []
    },
    {
      "cell_type": "code",
      "source": [
        "#8\n",
        "year=int(input('enter year: '))\n",
        "if year%4==0 and year%100!=0 or year%400==0:\n",
        "    print('leap year')\n",
        "else:\n",
        "    print('not leap year')"
      ],
      "metadata": {
        "id": "2juylRwEfp3a"
      },
      "execution_count": null,
      "outputs": []
    },
    {
      "cell_type": "code",
      "source": [
        "#9\n",
        "username=input('enter username: ')\n",
        "s='admin manager'\n",
        "if username in s:\n",
        "    print('login successful')\n",
        "else:\n",
        "    print('login failed')"
      ],
      "metadata": {
        "id": "3r7pLFdSftVh"
      },
      "execution_count": null,
      "outputs": []
    },
    {
      "cell_type": "code",
      "source": [
        "#10\n",
        "n=int(input('enter 1st number: '))\n",
        "m=int(input('enter 2nd number: '))\n",
        "option=input('enter option: \\n1.+ for addition \\n2. - for subtraction \\n3. * for multiplication \\n4./ for division \\n')\n",
        "match option:\n",
        "    case '+':\n",
        "        print('addition:',n+m)\n",
        "    case '-':\n",
        "        print('subtraction:',n-m)\n",
        "    case '*':\n",
        "        print('multiplication:',n*m)\n",
        "    case '/':\n",
        "        if m!=0:\n",
        "            print('division:',n/m)\n",
        "        else:\n",
        "            print('division by zero not possible')\n",
        "    case _:\n",
        "        print('invalid option')"
      ],
      "metadata": {
        "id": "QxvbV1iXfwlU"
      },
      "execution_count": null,
      "outputs": []
    },
    {
      "cell_type": "code",
      "source": [
        "#11\n",
        "temp=int(input('enter temperature in celsius: '))\n",
        "if temp>40:\n",
        "    print('heat alert')\n",
        "elif temp>=30 and temp<=40:\n",
        "    print('warm')\n",
        "elif temp<=30:\n",
        "    print('normal')"
      ],
      "metadata": {
        "id": "_A5HoQq-f1Wj"
      },
      "execution_count": null,
      "outputs": []
    },
    {
      "cell_type": "code",
      "source": [
        "#12\n",
        "password=input('enter password: ')\n",
        "if len(password)>=8 and '@' in password:\n",
        "    print('strong password')\n",
        "else:\n",
        "    print('weak password')"
      ],
      "metadata": {
        "id": "yMTtTeRmf5sM"
      },
      "execution_count": null,
      "outputs": []
    },
    {
      "cell_type": "code",
      "source": [
        "#13\n",
        "balamount=10000\n",
        "amount=int(input('enter amount: '))\n",
        "if amount<=balamount and amount%100==0:\n",
        "    print('withdrawl successful')\n",
        "else:\n",
        "    print('withdrawl failed')"
      ],
      "metadata": {
        "id": "WyK-XnLqf8xV"
      },
      "execution_count": null,
      "outputs": []
    },
    {
      "cell_type": "code",
      "source": [
        "#14\n",
        "n=int(input('enter number: '))\n",
        "if n%3==0 and n%5==0:\n",
        "    print('divisible by 3 and 5')\n",
        "elif n%3==0:\n",
        "    print('divisible by 3')\n",
        "elif n%5==0:\n",
        "    print('divisible by 5')\n",
        "else:\n",
        "    print('not divisible by 3 and 5')"
      ],
      "metadata": {
        "id": "8eeLjQmpf_xT"
      },
      "execution_count": null,
      "outputs": []
    },
    {
      "cell_type": "code",
      "source": [
        "#15\n",
        "userinput=input('enter product name: ')\n",
        "product='pen pencil eraser'\n",
        "if 'pen' in product:\n",
        "    print('pen is available')\n",
        "elif 'pencil' in product:\n",
        "    print('pencil is available')\n",
        "elif 'eraser' in product:\n",
        "    print('eraser is available')\n",
        "\n",
        "else:\n",
        "    print('product not available')"
      ],
      "metadata": {
        "id": "Vd4DbPjCgCqo"
      },
      "execution_count": null,
      "outputs": []
    },
    {
      "cell_type": "code",
      "source": [
        "#16\n",
        "length1=int(input('enter 1st length of triangle: '))\n",
        "length2=int(input('enter 2nd length of triangle: '))\n",
        "length3=int(input('enter 3rd length of triangle: '))\n",
        "if length1+length2>length3 and length1+length3>length2 and length2+length3>length1:\n",
        "    print('valid triangle')\n",
        "else:\n",
        "    print('invalid triangle')"
      ],
      "metadata": {
        "id": "WLrBdJR7gGSI"
      },
      "execution_count": null,
      "outputs": []
    },
    {
      "cell_type": "code",
      "source": [
        "#17\n",
        "n=int(input('enter number: '))\n",
        "m=int(input('enter number: '))\n",
        "p=  int(input('enter number: '))\n",
        "greatest=0\n",
        "if n>m and n>p:\n",
        "    greatest=n\n",
        "\n",
        "elif m>n and m>p:\n",
        "    greatest=m\n",
        "\n",
        "elif p>n and p>m:\n",
        "    greatest=p\n",
        "print('greatest number:',greatest)"
      ],
      "metadata": {
        "id": "PWbmtxPLgKIh"
      },
      "execution_count": null,
      "outputs": []
    },
    {
      "cell_type": "code",
      "source": [
        "#18\n",
        "marks=int(input('enter marks: '))\n",
        "if marks<=100 and marks>=0:\n",
        "    print('valid marks')\n",
        "else:\n",
        "    print('invalid marks')"
      ],
      "metadata": {
        "id": "b898cfeugOE9"
      },
      "execution_count": null,
      "outputs": []
    },
    {
      "cell_type": "code",
      "source": [
        "#19\n",
        "predifined_username='shreeya'\n",
        "predifined_password='shreeya@123'\n",
        "username=input('enter username: ')\n",
        "password=input('enter password: ')\n",
        "if username==predifined_username and password==predifined_password:\n",
        "    print('login successful')\n",
        "else:\n",
        "    print('login failed')"
      ],
      "metadata": {
        "id": "s0KDpCxcgQ2Q"
      },
      "execution_count": null,
      "outputs": []
    },
    {
      "cell_type": "code",
      "source": [
        "#20\n",
        "electricity_bill=int(input('enter electricity bill: '))\n",
        "if electricity_bill<=100:\n",
        "    bill=5*100\n",
        "elif electricity_bill>100 and electricity_bill<=200:\n",
        "    bill=5*100+7*(electricity_bill-100)\n",
        "else:\n",
        "    bill=5*100+7*(200-100)+10*(electricity_bill-200)\n",
        "print('total bill:',bill)"
      ],
      "metadata": {
        "id": "cR7q7XAWgUXB"
      },
      "execution_count": null,
      "outputs": []
    },
    {
      "cell_type": "markdown",
      "source": [],
      "metadata": {
        "id": "CkZD5btxfFsM"
      }
    }
  ]
}
